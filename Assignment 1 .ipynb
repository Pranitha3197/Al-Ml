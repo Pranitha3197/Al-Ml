{
  "nbformat": 4,
  "nbformat_minor": 0,
  "metadata": {
    "colab": {
      "provenance": [],
      "authorship_tag": "ABX9TyMSu2x/ic2WL+8MF81jOSRO",
      "include_colab_link": true
    },
    "kernelspec": {
      "name": "python3",
      "display_name": "Python 3"
    },
    "language_info": {
      "name": "python"
    }
  },
  "cells": [
    {
      "cell_type": "markdown",
      "metadata": {
        "id": "view-in-github",
        "colab_type": "text"
      },
      "source": [
        "<a href=\"https://colab.research.google.com/github/Pranitha3197/Al-Ml/blob/main/Assignment%201%20.ipynb\" target=\"_parent\"><img src=\"https://colab.research.google.com/assets/colab-badge.svg\" alt=\"Open In Colab\"/></a>"
      ]
    },
    {
      "cell_type": "code",
      "execution_count": 5,
      "metadata": {
        "colab": {
          "base_uri": "https://localhost:8080/"
        },
        "id": "U-h0YVO1Qu41",
        "outputId": "b209d193-231a-4799-c36c-2a24eb0d0712"
      },
      "outputs": [
        {
          "output_type": "stream",
          "name": "stdout",
          "text": [
            "The adjacency List representing the graph is:\n",
            "{0: [1, 3], 1: [0, 2, 3], 2: [4, 1, 5], 3: [4, 0, 1], 4: [2, 3, 5], 5: [4, 2], 6: []}\n",
            "BFS traversal of graph with source 0 is:\n",
            "0-->1-->3-->2-->4-->5-->"
          ]
        }
      ],
      "source": [
        "from queue import Queue\n",
        "\n",
        "graph = {0: [1, 3], 1: [0, 2, 3], 2: [4, 1, 5], 3: [4, 0, 1], 4: [2, 3, 5], 5: [4, 2], 6: []}\n",
        "print(\"The adjacency List representing the graph is:\")\n",
        "print(graph)\n",
        "\n",
        "\n",
        "def bfs(graph, source):\n",
        "    Q = Queue()\n",
        "    visited_vertices = set()\n",
        "    Q.put(source)\n",
        "    visited_vertices.update({0})\n",
        "    while not Q.empty():\n",
        "        vertex = Q.get()\n",
        "        print(vertex, end=\"-->\")\n",
        "        for u in graph[vertex]:\n",
        "            if u not in visited_vertices:\n",
        "                Q.put(u)\n",
        "                visited_vertices.update({u})\n",
        "\n",
        "print(\"BFS traversal of graph with source 0 is:\")\n",
        "bfs(graph, 0)"
      ]
    }
  ]
}