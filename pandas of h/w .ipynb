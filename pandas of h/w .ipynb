{
  "nbformat": 4,
  "nbformat_minor": 0,
  "metadata": {
    "colab": {
      "provenance": [],
      "authorship_tag": "ABX9TyPO3ZyqfZewu1Dr/sp2Ejdm",
      "include_colab_link": true
    },
    "kernelspec": {
      "name": "python3",
      "display_name": "Python 3"
    },
    "language_info": {
      "name": "python"
    }
  },
  "cells": [
    {
      "cell_type": "markdown",
      "metadata": {
        "id": "view-in-github",
        "colab_type": "text"
      },
      "source": [
        "<a href=\"https://colab.research.google.com/github/Pranitha3197/Al-Ml/blob/main/pandas%20of%20h/w%20.ipynb\" target=\"_parent\"><img src=\"https://colab.research.google.com/assets/colab-badge.svg\" alt=\"Open In Colab\"/></a>"
      ]
    },
    {
      "cell_type": "code",
      "execution_count": 2,
      "metadata": {
        "colab": {
          "base_uri": "https://localhost:8080/"
        },
        "id": "U-h0YVO1Qu41",
        "outputId": "03836980-1585-4e23-e214-bc02e601e46a"
      },
      "outputs": [
        {
          "output_type": "stream",
          "name": "stdout",
          "text": [
            "Requirement already satisfied: pandas in /usr/local/lib/python3.10/dist-packages (2.1.4)\n",
            "Requirement already satisfied: numpy<2,>=1.22.4 in /usr/local/lib/python3.10/dist-packages (from pandas) (1.26.4)\n",
            "Requirement already satisfied: python-dateutil>=2.8.2 in /usr/local/lib/python3.10/dist-packages (from pandas) (2.8.2)\n",
            "Requirement already satisfied: pytz>=2020.1 in /usr/local/lib/python3.10/dist-packages (from pandas) (2024.1)\n",
            "Requirement already satisfied: tzdata>=2022.1 in /usr/local/lib/python3.10/dist-packages (from pandas) (2024.1)\n",
            "Requirement already satisfied: six>=1.5 in /usr/local/lib/python3.10/dist-packages (from python-dateutil>=2.8.2->pandas) (1.16.0)\n",
            "     name  Age  Height  Weight\n",
            "0  amulya   12     5.5      33\n",
            "1   ramya   43     5.3      35\n",
            "2    siri   16     4.9      45\n",
            "3  sravya   17     5.5      37\n"
          ]
        }
      ],
      "source": [
        "!pip install pandas\n",
        "import pandas as pd\n",
        "people=['amulya','ramya','siri','sravya']\n",
        "age=[12,43,16,17]\n",
        "height=[5.5,5.3,4.9,5.5]\n",
        "weight=[33,35,45,37]\n",
        "data ={\n",
        "    'name':people,\n",
        "    'Age':age,\n",
        "    'Height':height,\n",
        "    'Weight':weight,\n",
        "}\n",
        "df=pd.DataFrame(data)\n",
        "print(df)\n",
        "\n"
      ]
    }
  ]
}